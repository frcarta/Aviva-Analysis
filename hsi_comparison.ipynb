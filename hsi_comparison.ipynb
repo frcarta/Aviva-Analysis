{
 "cells": [
  {
   "cell_type": "code",
   "execution_count": 1,
   "id": "3c4f47bb",
   "metadata": {},
   "outputs": [],
   "source": [
    "# Find the endmembers from the HR\n",
    "#Hysime -> Nfindr  (Davies and Bouldin Index)\n",
    "from skimage.metrics import peak_signal_noise_ratio as psnr, structural_similarity as ssim\n",
    "import sklearn\n",
    "from sklearn.decomposition import NMF\n",
    "import cv2\n",
    "import scipy.io as io\n",
    "import numpy as np\n",
    "import matplotlib.pyplot as plt\n",
    "import os\n",
    "from tools.hsi_to_rgb import hsi_to_rgb\n",
    "from tqdm import tqdm, trange\n",
    "from sklearn.metrics import davies_bouldin_score\n",
    "from tools.hysime import *\n",
    "from metrics import *"
   ]
  },
  {
   "cell_type": "code",
   "execution_count": 2,
   "id": "9b63165a",
   "metadata": {},
   "outputs": [],
   "source": [
    "def np_normalize(array):\n",
    "    return (array-np.min(array)) /(np.max(array) - np.min(array))"
   ]
  },
  {
   "cell_type": "code",
   "execution_count": 3,
   "id": "ed26b2bc",
   "metadata": {},
   "outputs": [
    {
     "name": "stdout",
     "output_type": "stream",
     "text": [
      "dict_keys(['__header__', '__version__', '__globals__', 'SR', 'HR', 'WL'])\n"
     ]
    }
   ],
   "source": [
    "matfile = io.loadmat(r\"Outputs/comparison/avivaface_sr03mm_vs_hr1mm.mat\")\n",
    "print(matfile.keys())"
   ]
  },
  {
   "cell_type": "code",
   "execution_count": 4,
   "id": "ec5ff56c",
   "metadata": {},
   "outputs": [
    {
     "name": "stdout",
     "output_type": "stream",
     "text": [
      "HR shape: (80388, 1018)\n",
      "SR shape: (80388, 1018)\n"
     ]
    }
   ],
   "source": [
    "HR = matfile[\"HR\"]\n",
    "h = HR.shape[0]\n",
    "w = HR.shape[1]\n",
    "ch = HR.shape[2]\n",
    "HR = HR.reshape((h*w,ch))\n",
    "\n",
    "SR = matfile[\"SR\"]\n",
    "SR = SR.reshape((h*w,ch))\n",
    "print(f\"HR shape: {HR.shape}\")\n",
    "print(f\"SR shape: {SR.shape}\")"
   ]
  },
  {
   "cell_type": "code",
   "execution_count": null,
   "id": "9e672934",
   "metadata": {},
   "outputs": [],
   "source": [
    "matfile_LR = io.loadmat(r\"Datasets/aviva_1mm_aligned_r3.mat\")\n",
    "print(matfile_LR.keys())"
   ]
  },
  {
   "cell_type": "code",
   "execution_count": null,
   "id": "3eee338e",
   "metadata": {},
   "outputs": [],
   "source": [
    "LR = matfile_LR[\"I_MS_LR\"]\n",
    "#LR = LR.reshape(-1,ch)\n",
    "LRup = np.zeros(h,w,ch)\n",
    "\n",
    "interpolations = [ cv2.INTER_NEAREST, cv2.INTER_LINEAR, cv2.INTER_CUBIC, cv2.INTER_LANCZOS4]\n",
    "for i in range(ch):\n",
    "    LRup[:,:,i] = cv2.resize(LR, (h,w), interpolation= cv2.INTER_LINEAR)"
   ]
  },
  {
   "cell_type": "code",
   "execution_count": 5,
   "id": "cd3c6585",
   "metadata": {},
   "outputs": [
    {
     "name": "stdout",
     "output_type": "stream",
     "text": [
      "SAM: 1.660964582717293\n"
     ]
    }
   ],
   "source": [
    "SRn = np_normalize(SR.reshape(h,w,ch))\n",
    "HRn = np_normalize(HR.reshape(h,w,ch))\n",
    "sam = SAM(SRn, HRn)\n",
    "print(f\"SAM: {sam}\")\n"
   ]
  },
  {
   "cell_type": "code",
   "execution_count": 6,
   "id": "3f925ed3",
   "metadata": {},
   "outputs": [
    {
     "name": "stdout",
     "output_type": "stream",
     "text": [
      "ERGAS: 5.641272369683453\n"
     ]
    }
   ],
   "source": [
    "ergas = ERGAS(SRn,HRn,3)\n",
    "print(f\"ERGAS: {ergas}\")"
   ]
  },
  {
   "cell_type": "code",
   "execution_count": 7,
   "id": "4fd9ed8e",
   "metadata": {},
   "outputs": [
    {
     "name": "stdout",
     "output_type": "stream",
     "text": [
      "0\n",
      "0\n",
      "1\n",
      "2\n",
      "3\n",
      "4\n",
      "5\n",
      "6\n",
      "7\n",
      "1\n",
      "0\n",
      "1\n",
      "2\n",
      "3\n",
      "4\n",
      "5\n",
      "6\n",
      "7\n",
      "2\n",
      "0\n",
      "1\n",
      "2\n",
      "3\n",
      "4\n",
      "5\n",
      "6\n",
      "7\n",
      "3\n",
      "0\n",
      "1\n",
      "2\n",
      "3\n",
      "4\n",
      "5\n",
      "6\n",
      "7\n",
      "4\n",
      "0\n",
      "1\n",
      "2\n",
      "3\n",
      "4\n",
      "5\n",
      "6\n",
      "7\n",
      "5\n",
      "0\n",
      "1\n",
      "2\n",
      "3\n",
      "4\n",
      "5\n",
      "6\n",
      "7\n",
      "6\n",
      "0\n",
      "1\n",
      "2\n",
      "3\n",
      "4\n",
      "5\n",
      "6\n",
      "7\n",
      "7\n",
      "0\n",
      "1\n",
      "2\n",
      "3\n",
      "4\n",
      "5\n",
      "6\n",
      "7\n",
      "8\n",
      "0\n",
      "1\n",
      "2\n",
      "3\n",
      "4\n",
      "5\n",
      "6\n",
      "7\n",
      "9\n",
      "0\n",
      "1\n",
      "2\n",
      "3\n",
      "4\n",
      "5\n",
      "6\n",
      "7\n",
      "10\n",
      "0\n",
      "1\n",
      "2\n",
      "3\n",
      "4\n",
      "5\n",
      "6\n",
      "7\n",
      "Q2n: 0.9772741144366915\n"
     ]
    }
   ],
   "source": [
    "q2n, q2n_map = Q2n(SRn,HRn)\n",
    "print(f\"Q2n: {q2n}\")"
   ]
  },
  {
   "cell_type": "code",
   "execution_count": 8,
   "id": "6239b0da",
   "metadata": {},
   "outputs": [
    {
     "name": "stdout",
     "output_type": "stream",
     "text": [
      "28.4\n",
      "0.84\n"
     ]
    }
   ],
   "source": [
    "# calculate the psnr and ssim between the images\n",
    "pnsr_value = np.round(psnr(HRn, SRn, data_range=1),2)\n",
    "ssim_value = np.round(ssim(HRn, SRn, data_range=1),2)\n",
    "print(pnsr_value)\n",
    "print(ssim_value)"
   ]
  },
  {
   "cell_type": "code",
   "execution_count": null,
   "id": "3a046db7",
   "metadata": {},
   "outputs": [],
   "source": [
    "noise, noise_corr = est_noise(HR)\n",
    "print(f\"noise shape: {noise.shape}\")\n",
    "print(f\"nosie_corr shape: {noise_corr.shape}\")"
   ]
  },
  {
   "cell_type": "code",
   "execution_count": null,
   "id": "bfef3e32",
   "metadata": {},
   "outputs": [],
   "source": [
    "kf,Ek = hysime(HR,noise, noise_corr)\n",
    "print(f\"Ek shape: {Ek.shape}\")\n",
    "print(f\"kf: {kf}\")"
   ]
  },
  {
   "cell_type": "code",
   "execution_count": null,
   "id": "a583a301",
   "metadata": {},
   "outputs": [],
   "source": [
    "mix = HR @ Ek"
   ]
  },
  {
   "cell_type": "code",
   "execution_count": null,
   "id": "14a021a2",
   "metadata": {},
   "outputs": [],
   "source": [
    "n_endmembers = 10\n",
    "\n",
    "nfindr = NFINDR()\n",
    "# endmembers = nfindr.extract(X_LR.reshape(h,w,ch), n_endmembers, maxit=100, normalize=False) \n",
    "endmembers = nfindr.extract(mix.reshape((h,w,kf)), n_endmembers, maxit=200, normalize=False)\n"
   ]
  },
  {
   "cell_type": "code",
   "execution_count": null,
   "id": "4495e733",
   "metadata": {},
   "outputs": [],
   "source": [
    "labels = "
   ]
  },
  {
   "cell_type": "code",
   "execution_count": null,
   "id": "d2715fc0",
   "metadata": {},
   "outputs": [],
   "source": [
    "davies_bouldin_score"
   ]
  },
  {
   "cell_type": "code",
   "execution_count": null,
   "id": "778d7687",
   "metadata": {},
   "outputs": [],
   "source": [
    "for n_end in range(20):"
   ]
  }
 ],
 "metadata": {
  "kernelspec": {
   "display_name": "hs_pan_toolbox_env_F",
   "language": "python",
   "name": "python3"
  },
  "language_info": {
   "codemirror_mode": {
    "name": "ipython",
    "version": 3
   },
   "file_extension": ".py",
   "mimetype": "text/x-python",
   "name": "python",
   "nbconvert_exporter": "python",
   "pygments_lexer": "ipython3",
   "version": "3.10.18"
  }
 },
 "nbformat": 4,
 "nbformat_minor": 5
}
